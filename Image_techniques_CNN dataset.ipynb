{
 "cells": [
  {
   "cell_type": "code",
   "execution_count": 1,
   "id": "bec35ee9",
   "metadata": {},
   "outputs": [
    {
     "name": "stderr",
     "output_type": "stream",
     "text": [
      "C:\\Users\\shrut\\anaconda3\\lib\\site-packages\\numpy\\_distributor_init.py:30: UserWarning: loaded more than 1 DLL from .libs:\n",
      "C:\\Users\\shrut\\anaconda3\\lib\\site-packages\\numpy\\.libs\\libopenblas.GK7GX5KEQ4F6UYO3P26ULGBQYHGQO7J4.gfortran-win_amd64.dll\n",
      "C:\\Users\\shrut\\anaconda3\\lib\\site-packages\\numpy\\.libs\\libopenblas.WCDJNK7YVMPZQ2ME2ZZHJJRJ3JIKNDB7.gfortran-win_amd64.dll\n",
      "  warnings.warn(\"loaded more than 1 DLL from .libs:\"\n",
      "C:\\Users\\shrut\\anaconda3\\lib\\site-packages\\tensorflow\\python\\keras\\engine\\training_arrays_v1.py:37: UserWarning: A NumPy version >=1.22.4 and <2.3.0 is required for this version of SciPy (detected version 1.21.0)\n",
      "  from scipy.sparse import issparse  # pylint: disable=g-import-not-at-top\n"
     ]
    }
   ],
   "source": [
    "import os\n",
    "import cv2\n",
    "import tensorflow as tf\n",
    "from tensorflow.keras.models import Sequential\n",
    "from tensorflow.keras.layers import Conv2D, MaxPooling2D, Flatten, Dense, Dropout\n",
    "from sklearn.model_selection import train_test_split\n",
    "from tensorflow.keras.utils import to_categorical\n",
    "import numpy as np\n",
    "import matplotlib.pyplot as plt"
   ]
  },
  {
   "cell_type": "markdown",
   "id": "07da524e",
   "metadata": {},
   "source": [
    "## Uploading the Dataset"
   ]
  },
  {
   "cell_type": "code",
   "execution_count": 2,
   "id": "28a99b7e",
   "metadata": {},
   "outputs": [],
   "source": [
    "# Define the path to the main dataset folder\n",
    "dataset_path = \"C:/Users/shrut/OneDrive/Desktop/CNN letter Dataset\"\n",
    "\n",
    "# Create empty lists to store images and labels\n",
    "images = []\n",
    "labels = []"
   ]
  },
  {
   "cell_type": "code",
   "execution_count": 3,
   "id": "72ffe4e1",
   "metadata": {},
   "outputs": [],
   "source": [
    "# Iterate over each subfolder (0–9)\n",
    "for label in range(10):\n",
    "    folder_path = os.path.join(dataset_path, str(label))\n",
    "    \n",
    "    # Check if the path exists to avoid errors\n",
    "    if os.path.exists(folder_path):\n",
    "        for filename in os.listdir(folder_path):\n",
    "            file_path = os.path.join(folder_path, filename)\n",
    "            \n",
    "            # Read the image in grayscale \n",
    "            img = cv2.imread(file_path, cv2.IMREAD_GRAYSCALE)\n",
    "            \n",
    "            if img is not None:\n",
    "                images.append(img)\n",
    "                labels.append(label)"
   ]
  },
  {
   "cell_type": "code",
   "execution_count": 4,
   "id": "e153037d",
   "metadata": {},
   "outputs": [
    {
     "name": "stdout",
     "output_type": "stream",
     "text": [
      "Number of images loaded: 10300\n",
      "Number of labels loaded: 10300\n"
     ]
    }
   ],
   "source": [
    "# Convert lists to numpy arrays\n",
    "images = np.array(images)\n",
    "labels = np.array(labels)\n",
    "\n",
    "print(\"Number of images loaded:\", len(images))\n",
    "print(\"Number of labels loaded:\", len(labels))"
   ]
  },
  {
   "cell_type": "markdown",
   "id": "ea358ce2",
   "metadata": {},
   "source": [
    "## CNN model "
   ]
  },
  {
   "cell_type": "code",
   "execution_count": 5,
   "id": "29e8a8f9",
   "metadata": {},
   "outputs": [],
   "source": [
    "# Reshape images and normalize\n",
    "images = images.reshape(-1, images.shape[1], images.shape[2], 1).astype('float32') / 255.0\n",
    "labels = to_categorical(labels, 10)  # Convert labels to one-hot encoding\n",
    "\n",
    "# Split data into training and testing sets\n",
    "X_train, X_test, y_train, y_test = train_test_split(images, labels, test_size=0.2, random_state=42)"
   ]
  },
  {
   "cell_type": "code",
   "execution_count": 6,
   "id": "9832ae0a",
   "metadata": {},
   "outputs": [
    {
     "name": "stderr",
     "output_type": "stream",
     "text": [
      "C:\\Users\\shrut\\anaconda3\\lib\\site-packages\\keras\\src\\layers\\convolutional\\base_conv.py:107: UserWarning: Do not pass an `input_shape`/`input_dim` argument to a layer. When using Sequential models, prefer using an `Input(shape)` object as the first layer in the model instead.\n",
      "  super().__init__(activity_regularizer=activity_regularizer, **kwargs)\n"
     ]
    },
    {
     "name": "stdout",
     "output_type": "stream",
     "text": [
      "Epoch 1/10\n",
      "\u001b[1m206/206\u001b[0m \u001b[32m━━━━━━━━━━━━━━━━━━━━\u001b[0m\u001b[37m\u001b[0m \u001b[1m38s\u001b[0m 177ms/step - accuracy: 0.5413 - loss: 1.3509 - val_accuracy: 0.9727 - val_loss: 0.1233\n",
      "Epoch 2/10\n",
      "\u001b[1m206/206\u001b[0m \u001b[32m━━━━━━━━━━━━━━━━━━━━\u001b[0m\u001b[37m\u001b[0m \u001b[1m44s\u001b[0m 191ms/step - accuracy: 0.9389 - loss: 0.2192 - val_accuracy: 0.9891 - val_loss: 0.0444\n",
      "Epoch 3/10\n",
      "\u001b[1m206/206\u001b[0m \u001b[32m━━━━━━━━━━━━━━━━━━━━\u001b[0m\u001b[37m\u001b[0m \u001b[1m39s\u001b[0m 191ms/step - accuracy: 0.9559 - loss: 0.1405 - val_accuracy: 0.9939 - val_loss: 0.0240\n",
      "Epoch 4/10\n",
      "\u001b[1m206/206\u001b[0m \u001b[32m━━━━━━━━━━━━━━━━━━━━\u001b[0m\u001b[37m\u001b[0m \u001b[1m39s\u001b[0m 191ms/step - accuracy: 0.9716 - loss: 0.0935 - val_accuracy: 0.9891 - val_loss: 0.0292\n",
      "Epoch 5/10\n",
      "\u001b[1m206/206\u001b[0m \u001b[32m━━━━━━━━━━━━━━━━━━━━\u001b[0m\u001b[37m\u001b[0m \u001b[1m38s\u001b[0m 184ms/step - accuracy: 0.9748 - loss: 0.0739 - val_accuracy: 0.9951 - val_loss: 0.0179\n",
      "Epoch 6/10\n",
      "\u001b[1m206/206\u001b[0m \u001b[32m━━━━━━━━━━━━━━━━━━━━\u001b[0m\u001b[37m\u001b[0m \u001b[1m38s\u001b[0m 182ms/step - accuracy: 0.9789 - loss: 0.0585 - val_accuracy: 0.9964 - val_loss: 0.0115\n",
      "Epoch 7/10\n",
      "\u001b[1m206/206\u001b[0m \u001b[32m━━━━━━━━━━━━━━━━━━━━\u001b[0m\u001b[37m\u001b[0m \u001b[1m39s\u001b[0m 187ms/step - accuracy: 0.9839 - loss: 0.0520 - val_accuracy: 0.9988 - val_loss: 0.0060\n",
      "Epoch 8/10\n",
      "\u001b[1m206/206\u001b[0m \u001b[32m━━━━━━━━━━━━━━━━━━━━\u001b[0m\u001b[37m\u001b[0m \u001b[1m39s\u001b[0m 188ms/step - accuracy: 0.9879 - loss: 0.0410 - val_accuracy: 0.9939 - val_loss: 0.0167\n",
      "Epoch 9/10\n",
      "\u001b[1m206/206\u001b[0m \u001b[32m━━━━━━━━━━━━━━━━━━━━\u001b[0m\u001b[37m\u001b[0m \u001b[1m41s\u001b[0m 187ms/step - accuracy: 0.9857 - loss: 0.0470 - val_accuracy: 0.9970 - val_loss: 0.0098\n",
      "Epoch 10/10\n",
      "\u001b[1m206/206\u001b[0m \u001b[32m━━━━━━━━━━━━━━━━━━━━\u001b[0m\u001b[37m\u001b[0m \u001b[1m38s\u001b[0m 184ms/step - accuracy: 0.9870 - loss: 0.0347 - val_accuracy: 0.9988 - val_loss: 0.0045\n",
      "\u001b[1m65/65\u001b[0m \u001b[32m━━━━━━━━━━━━━━━━━━━━\u001b[0m\u001b[37m\u001b[0m \u001b[1m4s\u001b[0m 55ms/step - accuracy: 0.9939 - loss: 0.0202\n",
      "Test accuracy: 0.9961165189743042\n"
     ]
    }
   ],
   "source": [
    "# Define the CNN model\n",
    "model = Sequential([\n",
    "    Conv2D(32, (3, 3), activation='relu', input_shape=(images.shape[1], images.shape[2], 1)),\n",
    "    MaxPooling2D((2, 2)),\n",
    "    Conv2D(64, (3, 3), activation='relu'),\n",
    "    MaxPooling2D((2, 2)),# dividing the input into smaller region\n",
    "    Flatten(),#multidimentional into single dimention vector\n",
    "    Dense(128, activation='relu'),\n",
    "    Dropout(0.5),\n",
    "    Dense(10, activation='softmax')\n",
    "])\n",
    "\n",
    "# Compile the model\n",
    "model.compile(optimizer='adam', loss='categorical_crossentropy', metrics=['accuracy'])\n",
    "\n",
    "# Train the model\n",
    "history = model.fit(X_train, y_train, epochs=10, batch_size=32, validation_split=0.2)\n",
    "\n",
    "# Evaluate the model on the test set\n",
    "test_loss, test_accuracy = model.evaluate(X_test, y_test)\n",
    "print(\"Test accuracy:\", test_accuracy)"
   ]
  },
  {
   "cell_type": "markdown",
   "id": "e7f50610",
   "metadata": {},
   "source": [
    "## Accuracy - 0.9961165189743042"
   ]
  },
  {
   "cell_type": "markdown",
   "id": "9eac4d08",
   "metadata": {},
   "source": [
    "### Image processing technique"
   ]
  },
  {
   "cell_type": "markdown",
   "id": "9bbf7953",
   "metadata": {},
   "source": [
    "### Edge Detection"
   ]
  },
  {
   "cell_type": "code",
   "execution_count": 37,
   "id": "1fdb43dd",
   "metadata": {},
   "outputs": [
    {
     "name": "stdout",
     "output_type": "stream",
     "text": [
      "Edge detected images shape: (10300, 28, 28)\n"
     ]
    },
    {
     "data": {
      "image/png": "[encoded data removed]",
      "text/plain": [
       "<Figure size 1000x1000 with 10 Axes>"
      ]
     },
     "metadata": {},
     "output_type": "display_data"
    }
   ],
   "source": [
    "import cv2\n",
    "import numpy as np\n",
    "import matplotlib.pyplot as plt\n",
    "import random\n",
    "\n",
    "# Function to apply edge detection using the Canny algorithm\n",
    "def apply_edge_detection(images, lower_threshold=100, upper_threshold=200):\n",
    "    edges_detected = []\n",
    "    \n",
    "    for img in images:\n",
    "        # Convert the image to uint8 and apply Canny edge detection\n",
    "        img_uint8 = (img * 255).astype(np.uint8)  # Rescale to 0-255 and convert to uint8\n",
    "        edges = cv2.Canny(img_uint8, lower_threshold, upper_threshold)\n",
    "        edges_detected.append(edges)\n",
    "    \n",
    "    return np.array(edges_detected)\n",
    "\n",
    "# Apply edge detection on the images\n",
    "edges_images = apply_edge_detection(images_resized)\n",
    "\n",
    "# Print the shape to confirm the size\n",
    "print(\"Edge detected images shape:\", edges_images.shape)\n",
    "\n",
    "# Function to visualize the images (original vs edge detected)\n",
    "def visualize_images_before_after(original_images, edge_images, num_images=5):\n",
    "    # Randomly sample `num_images` from the dataset to display images from different folders\n",
    "    indices = random.sample(range(len(original_images)), num_images)\n",
    "    \n",
    "    plt.figure(figsize=(10, 2 * num_images))\n",
    "    \n",
    "    # Loop through the selected `num_images` and display them\n",
    "    for i, index in enumerate(indices):\n",
    "        # Original Image\n",
    "        plt.subplot(2, num_images, i + 1)\n",
    "        plt.imshow(original_images[index], cmap='gray')\n",
    "        plt.title(f\"Original Image {index + 1}\", fontsize=12)\n",
    "        plt.axis('off')\n",
    "        \n",
    "        # Edge Detected Image\n",
    "        plt.subplot(2, num_images, num_images + i + 1)\n",
    "        plt.imshow(edge_images[index], cmap='gray')\n",
    "        plt.title(f\"Edge Detected {index + 1}\", fontsize=12)\n",
    "        plt.axis('off')\n",
    "    \n",
    "    plt.tight_layout()  # Adjust layout to make sure the images fit well\n",
    "    plt.show()\n",
    "\n",
    "# Visualize the first few images before and after edge detection with a custom number of images\n",
    "num_images_to_show = 5  # Change this number to show more or fewer images\n",
    "visualize_images_before_after(images_resized, edges_images, num_images=num_images_to_show)"
   ]
  },
  {
   "cell_type": "markdown",
   "id": "4c36194d",
   "metadata": {},
   "source": [
    "## CNN"
   ]
  },
  {
   "cell_type": "code",
   "execution_count": 38,
   "id": "c1bf7776",
   "metadata": {},
   "outputs": [],
   "source": [
    "import cv2\n",
    "import numpy as np\n",
    "import matplotlib.pyplot as plt\n",
    "import random\n",
    "from sklearn.model_selection import train_test_split\n",
    "from tensorflow.keras.models import Sequential\n",
    "from tensorflow.keras.layers import Conv2D, MaxPooling2D, Flatten, Dense, Dropout\n",
    "from tensorflow.keras.utils import to_categorical"
   ]
  },
  {
   "cell_type": "code",
   "execution_count": 39,
   "id": "c41ef360",
   "metadata": {},
   "outputs": [],
   "source": [
    "# Preprocess the edge-detected images\n",
    "edges_images = edges_images.astype('float32') / 255.0  # Normalize to [0, 1]\n",
    "edges_images = edges_images.reshape(edges_images.shape[0], 28, 28, 1)  # Reshape to 28x28 with 1 channel\n",
    "\n",
    "# One-hot encode the labels\n",
    "labels = to_categorical(labels, 10)\n",
    "\n",
    "# Split the data into training and testing sets\n",
    "X_train, X_test, y_train, y_test = train_test_split(edges_images, labels, test_size=0.2, random_state=42)"
   ]
  },
  {
   "cell_type": "code",
   "execution_count": 40,
   "id": "e3b26599",
   "metadata": {},
   "outputs": [],
   "source": [
    "# Create the CNN model\n",
    "model = Sequential()\n",
    "\n",
    "# Add a Convolutional layer\n",
    "model.add(Conv2D(32, kernel_size=(3, 3), activation='relu', input_shape=(28, 28, 1)))\n",
    "model.add(MaxPooling2D(pool_size=(2, 2)))\n",
    "model.add(Conv2D(64, kernel_size=(3, 3), activation='relu'))\n",
    "model.add(MaxPooling2D(pool_size=(2, 2)))\n",
    "model.add(Flatten())\n",
    "model.add(Dense(128, activation='relu'))\n",
    "model.add(Dropout(0.5))\n",
    "model.add(Dense(10, activation='softmax'))\n",
    "\n",
    "# Compile the model\n",
    "model.compile(optimizer='adam', loss='categorical_crossentropy', metrics=['accuracy'])"
   ]
  },
  {
   "cell_type": "code",
   "execution_count": 41,
   "id": "c77a32a3",
   "metadata": {},
   "outputs": [
    {
     "name": "stdout",
     "output_type": "stream",
     "text": [
      "Epoch 1/10\n",
      "\u001b[1m129/129\u001b[0m \u001b[32m━━━━━━━━━━━━━━━━━━━━\u001b[0m\u001b[37m\u001b[0m \u001b[1m4s\u001b[0m 21ms/step - accuracy: 0.5612 - loss: 1.3254 - val_accuracy: 0.9772 - val_loss: 0.0970\n",
      "Epoch 2/10\n",
      "\u001b[1m129/129\u001b[0m \u001b[32m━━━━━━━━━━━━━━━━━━━━\u001b[0m\u001b[37m\u001b[0m \u001b[1m4s\u001b[0m 15ms/step - accuracy: 0.9603 - loss: 0.1374 - val_accuracy: 0.9893 - val_loss: 0.0385\n",
      "Epoch 3/10\n",
      "\u001b[1m129/129\u001b[0m \u001b[32m━━━━━━━━━━━━━━━━━━━━\u001b[0m\u001b[37m\u001b[0m \u001b[1m2s\u001b[0m 19ms/step - accuracy: 0.9829 - loss: 0.0624 - val_accuracy: 0.9927 - val_loss: 0.0292\n",
      "Epoch 4/10\n",
      "\u001b[1m129/129\u001b[0m \u001b[32m━━━━━━━━━━━━━━━━━━━━\u001b[0m\u001b[37m\u001b[0m \u001b[1m2s\u001b[0m 19ms/step - accuracy: 0.9871 - loss: 0.0445 - val_accuracy: 0.9951 - val_loss: 0.0159\n",
      "Epoch 5/10\n",
      "\u001b[1m129/129\u001b[0m \u001b[32m━━━━━━━━━━━━━━━━━━━━\u001b[0m\u001b[37m\u001b[0m \u001b[1m3s\u001b[0m 20ms/step - accuracy: 0.9913 - loss: 0.0315 - val_accuracy: 0.9956 - val_loss: 0.0127\n",
      "Epoch 6/10\n",
      "\u001b[1m129/129\u001b[0m \u001b[32m━━━━━━━━━━━━━━━━━━━━\u001b[0m\u001b[37m\u001b[0m \u001b[1m3s\u001b[0m 20ms/step - accuracy: 0.9945 - loss: 0.0199 - val_accuracy: 0.9971 - val_loss: 0.0071\n",
      "Epoch 7/10\n",
      "\u001b[1m129/129\u001b[0m \u001b[32m━━━━━━━━━━━━━━━━━━━━\u001b[0m\u001b[37m\u001b[0m \u001b[1m3s\u001b[0m 21ms/step - accuracy: 0.9952 - loss: 0.0177 - val_accuracy: 0.9976 - val_loss: 0.0055\n",
      "Epoch 8/10\n",
      "\u001b[1m129/129\u001b[0m \u001b[32m━━━━━━━━━━━━━━━━━━━━\u001b[0m\u001b[37m\u001b[0m \u001b[1m3s\u001b[0m 19ms/step - accuracy: 0.9950 - loss: 0.0182 - val_accuracy: 0.9981 - val_loss: 0.0052\n",
      "Epoch 9/10\n",
      "\u001b[1m129/129\u001b[0m \u001b[32m━━━━━━━━━━━━━━━━━━━━\u001b[0m\u001b[37m\u001b[0m \u001b[1m3s\u001b[0m 20ms/step - accuracy: 0.9943 - loss: 0.0168 - val_accuracy: 0.9985 - val_loss: 0.0042\n",
      "Epoch 10/10\n",
      "\u001b[1m129/129\u001b[0m \u001b[32m━━━━━━━━━━━━━━━━━━━━\u001b[0m\u001b[37m\u001b[0m \u001b[1m2s\u001b[0m 18ms/step - accuracy: 0.9967 - loss: 0.0104 - val_accuracy: 0.9985 - val_loss: 0.0060\n",
      "\u001b[1m65/65\u001b[0m \u001b[32m━━━━━━━━━━━━━━━━━━━━\u001b[0m\u001b[37m\u001b[0m \u001b[1m0s\u001b[0m 5ms/step - accuracy: 0.9975 - loss: 0.0089\n",
      "Test accuracy: 0.9985436797142029\n"
     ]
    },
    {
     "data": {
      "image/png": "[encoded data removed]",
      "text/plain": [
       "<Figure size 640x480 with 1 Axes>"
      ]
     },
     "metadata": {},
     "output_type": "display_data"
    }
   ],
   "source": [
    "# Train the model\n",
    "history = model.fit(X_train, y_train, epochs=10, batch_size=64, validation_data=(X_test, y_test))\n",
    "\n",
    "# Evaluate the model on the test set\n",
    "test_loss, test_acc = model.evaluate(X_test, y_test)\n",
    "print(f'Test accuracy: {test_acc}')\n",
    "\n",
    "# Plotting training history\n",
    "plt.plot(history.history['accuracy'], label='accuracy')\n",
    "plt.plot(history.history['val_accuracy'], label = 'val_accuracy')\n",
    "plt.xlabel('Epoch')\n",
    "plt.ylabel('Accuracy')\n",
    "plt.ylim([0, 1])\n",
    "plt.legend(loc='lower right')\n",
    "plt.show()"
   ]
  },
  {
   "cell_type": "markdown",
   "id": "edd6bd80",
   "metadata": {},
   "source": [
    "### Accuracy - 0.9985436797142029"
   ]
  },
  {
   "cell_type": "markdown",
   "id": "9fe41054",
   "metadata": {},
   "source": [
    "## Predicting "
   ]
  },
  {
   "cell_type": "code",
   "execution_count": 88,
   "id": "ed6a309e",
   "metadata": {},
   "outputs": [
    {
     "name": "stdout",
     "output_type": "stream",
     "text": [
      "\u001b[1m1/1\u001b[0m \u001b[32m━━━━━━━━━━━━━━━━━━━━\u001b[0m\u001b[37m\u001b[0m \u001b[1m0s\u001b[0m 24ms/step\n"
     ]
    }
   ],
   "source": [
    "import cv2\n",
    "import numpy as np\n",
    "\n",
    "def preprocess_image(img_path):\n",
    "    # Load the image in grayscale\n",
    "    img = cv2.imread(img_path, cv2.IMREAD_GRAYSCALE)\n",
    "    if img is None:\n",
    "        raise ValueError(f\"Image not found at path: {img_path}\")\n",
    "    img = cv2.resize(img, (28, 28))  # Resize to 28x28\n",
    "    # Normalize the image to [0, 1] by dividing by 255\n",
    "    img = img.astype('float32') / 255.0\n",
    "    # Reshape to add channel dimension (28, 28, 1)\n",
    "    img = np.expand_dims(img, axis=-1)\n",
    "    # Add batch dimension (1, 28, 28, 1)\n",
    "    img = np.expand_dims(img, axis=0)\n",
    "    \n",
    "    return img\n",
    "\n",
    "# Path to your test image\n",
    "new_image_path = r\"C:\\Users\\shrut\\OneDrive\\Desktop\\digit_dataset2\\7\\digit_7_1.png\"\n",
    "\n",
    "# Preprocess the new image\n",
    "preprocessed_image = preprocess_image(new_image_path)\n",
    "\n",
    "# Predict the digit using the model\n",
    "prediction = model.predict(preprocessed_image)\n",
    "\n",
    "# Interpret the prediction\n",
    "predicted_digit = np.argmax(prediction)\n",
    "\n",
    "# Display the preprocessed image with the prediction\n",
    "plt.figure(figsize=(4, 4))\n",
    "plt.imshow(preprocessed_image[0, :, :, 0], cmap='gray')\n",
    "plt.title(f\"Predicted Digit: {predicted_digit}\", fontsize=16)\n",
    "plt.axis('off')\n",
    "plt.show()"
   ]
  },
  {
   "cell_type": "code",
   "execution_count": 89,
   "id": "5750e50c",
   "metadata": {},
   "outputs": [
    {
     "data": {
      "image/png": "[encoded data removed]",
      "text/plain": [
       "<Figure size 640x480 with 1 Axes>"
      ]
     },
     "metadata": {},
     "output_type": "display_data"
    }
   ],
   "source": [
    "import matplotlib.pyplot as plt\n",
    "\n",
    "# Visualize the preprocessed image\n",
    "plt.imshow(preprocessed_image[0, :, :, 0], cmap='gray')\n",
    "plt.title(\"Preprocessed Image Prediction\")\n",
    "plt.show()\n"
   ]
  },
  {
   "cell_type": "markdown",
   "id": "8023838a",
   "metadata": {},
   "source": [
    "## quantization"
   ]
  },
  {
   "cell_type": "code",
   "execution_count": 52,
   "id": "1298db50",
   "metadata": {},
   "outputs": [],
   "source": [
    "# Function to quantize the image to a given number of levels\n",
    "def quantize_image(image, num_levels):\n",
    "    # Compute the quantization factor\n",
    "    quantization_factor = 255 // num_levels\n",
    "    \n",
    "    # Apply quantization\n",
    "    quantized_image = (image // quantization_factor) * quantization_factor# determines how much each pixel value should be grouped.\n",
    "    \n",
    "    return quantized_image\n",
    "\n",
    "# Quantize the original images (before edge detection)\n",
    "num_quantization_levels = 8  # Set the number of quantization levels (e.g., 8)\n",
    "quantized_images = []\n",
    "\n",
    "for img in images_resized:  # images_resized is your original dataset\n",
    "    quantized_img = quantize_image(img, num_quantization_levels)\n",
    "    quantized_images.append(quantized_img)\n",
    "\n",
    "quantized_images = np.array(quantized_images)"
   ]
  },
  {
   "cell_type": "code",
   "execution_count": 53,
   "id": "809fb7e3",
   "metadata": {},
   "outputs": [
    {
     "name": "stdout",
     "output_type": "stream",
     "text": [
      "Quantized images shape: (10300, 28, 28)\n"
     ]
    },
    {
     "data": {
      "image/png": "[encoded data removed]",
      "text/plain": [
       "<Figure size 1000x1000 with 10 Axes>"
      ]
     },
     "metadata": {},
     "output_type": "display_data"
    }
   ],
   "source": [
    "# Print the shape of the quantized images\n",
    "print(\"Quantized images shape:\", quantized_images.shape)\n",
    "\n",
    "# Function to visualize the original images vs quantized images\n",
    "def visualize_images_before_after(original_images, quantized_images, num_images=5):\n",
    "    # Randomly sample `num_images` from the dataset to display images from different folders\n",
    "    indices = random.sample(range(len(original_images)), num_images)  # Define indices here\n",
    "    \n",
    "    plt.figure(figsize=(10, 2 * num_images))\n",
    "    \n",
    "    # Loop through the selected `num_images` and display them\n",
    "    for i, index in enumerate(indices):\n",
    "        # Original Image\n",
    "        plt.subplot(2, num_images, i + 1)\n",
    "        plt.imshow(original_images[index], cmap='gray')\n",
    "        plt.title(f\"Original Image {index + 1}\", fontsize=12)\n",
    "        plt.axis('off')\n",
    "        \n",
    "        # Quantized Image\n",
    "        plt.subplot(2, num_images, num_images + i + 1)\n",
    "        plt.imshow(quantized_images[index], cmap='gray')\n",
    "        plt.title(f\"Quantized Image {index + 1}\", fontsize=12)\n",
    "        plt.axis('off')\n",
    "    \n",
    "    plt.tight_layout()  # Adjust layout to make sure the images fit well\n",
    "    plt.show()\n",
    "\n",
    "# Visualize the first few original images before and after quantization\n",
    "num_images_to_show = 5  # Change this number to show more or fewer images\n",
    "visualize_images_before_after(images_resized, quantized_images, num_images=num_images_to_show)"
   ]
  },
  {
   "cell_type": "markdown",
   "id": "b9e3eb2d",
   "metadata": {},
   "source": [
    "## CNN"
   ]
  },
  {
   "cell_type": "code",
   "execution_count": 62,
   "id": "671bb028",
   "metadata": {},
   "outputs": [],
   "source": [
    "# Normalize the quantized images to the range 0-1\n",
    "quantized_images = quantized_images.astype('float32') / 255.0\n",
    "labels_flattened = np.argmax(labels, axis=1)  # Convert one-hot labels back to class labels\n",
    "\n",
    "# One-hot encode the labels for CNN\n",
    "labels_categorical = to_categorical(labels_flattened, num_classes=10)\n",
    "\n",
    "# Split data into training and testing sets\n",
    "X_train, X_test, y_train, y_test = train_test_split(quantized_images, labels_categorical, test_size=0.2, random_state=42)"
   ]
  },
  {
   "cell_type": "code",
   "execution_count": 63,
   "id": "75e293be",
   "metadata": {},
   "outputs": [
    {
     "name": "stdout",
     "output_type": "stream",
     "text": [
      "X_train shape: (8240, 28, 28, 1)\n",
      "y_train shape: (8240, 10)\n",
      "X_test shape: (2060, 28, 28, 1)\n",
      "y_test shape: (2060, 10)\n",
      "Epoch 1/10\n",
      "\u001b[1m129/129\u001b[0m \u001b[32m━━━━━━━━━━━━━━━━━━━━\u001b[0m\u001b[37m\u001b[0m \u001b[1m4s\u001b[0m 24ms/step - accuracy: 0.0988 - loss: 2.3028 - val_accuracy: 0.0854 - val_loss: 2.3026\n",
      "Epoch 2/10\n",
      "\u001b[1m129/129\u001b[0m \u001b[32m━━━━━━━━━━━━━━━━━━━━\u001b[0m\u001b[37m\u001b[0m \u001b[1m3s\u001b[0m 21ms/step - accuracy: 0.1337 - loss: 2.2975 - val_accuracy: 0.2917 - val_loss: 2.1750\n",
      "Epoch 3/10\n",
      "\u001b[1m129/129\u001b[0m \u001b[32m━━━━━━━━━━━━━━━━━━━━\u001b[0m\u001b[37m\u001b[0m \u001b[1m3s\u001b[0m 21ms/step - accuracy: 0.5662 - loss: 1.7955 - val_accuracy: 0.8277 - val_loss: 0.7134\n",
      "Epoch 4/10\n",
      "\u001b[1m129/129\u001b[0m \u001b[32m━━━━━━━━━━━━━━━━━━━━\u001b[0m\u001b[37m\u001b[0m \u001b[1m6s\u001b[0m 24ms/step - accuracy: 0.8529 - loss: 0.5870 - val_accuracy: 0.8777 - val_loss: 0.4158\n",
      "Epoch 5/10\n",
      "\u001b[1m129/129\u001b[0m \u001b[32m━━━━━━━━━━━━━━━━━━━━\u001b[0m\u001b[37m\u001b[0m \u001b[1m3s\u001b[0m 22ms/step - accuracy: 0.8969 - loss: 0.3629 - val_accuracy: 0.9155 - val_loss: 0.3206\n",
      "Epoch 6/10\n",
      "\u001b[1m129/129\u001b[0m \u001b[32m━━━━━━━━━━━━━━━━━━━━\u001b[0m\u001b[37m\u001b[0m \u001b[1m3s\u001b[0m 23ms/step - accuracy: 0.9222 - loss: 0.2850 - val_accuracy: 0.9335 - val_loss: 0.2679\n",
      "Epoch 7/10\n",
      "\u001b[1m129/129\u001b[0m \u001b[32m━━━━━━━━━━━━━━━━━━━━\u001b[0m\u001b[37m\u001b[0m \u001b[1m3s\u001b[0m 21ms/step - accuracy: 0.9377 - loss: 0.2390 - val_accuracy: 0.9417 - val_loss: 0.2329\n",
      "Epoch 8/10\n",
      "\u001b[1m129/129\u001b[0m \u001b[32m━━━━━━━━━━━━━━━━━━━━\u001b[0m\u001b[37m\u001b[0m \u001b[1m3s\u001b[0m 21ms/step - accuracy: 0.9452 - loss: 0.2228 - val_accuracy: 0.9510 - val_loss: 0.2116\n",
      "Epoch 9/10\n",
      "\u001b[1m129/129\u001b[0m \u001b[32m━━━━━━━━━━━━━━━━━━━━\u001b[0m\u001b[37m\u001b[0m \u001b[1m3s\u001b[0m 20ms/step - accuracy: 0.9493 - loss: 0.1893 - val_accuracy: 0.9447 - val_loss: 0.2002\n",
      "Epoch 10/10\n",
      "\u001b[1m129/129\u001b[0m \u001b[32m━━━━━━━━━━━━━━━━━━━━\u001b[0m\u001b[37m\u001b[0m \u001b[1m5s\u001b[0m 22ms/step - accuracy: 0.9534 - loss: 0.1736 - val_accuracy: 0.9578 - val_loss: 0.1771\n",
      "65/65 - 0s - 5ms/step - accuracy: 0.9578 - loss: 0.1771\n",
      "Test accuracy: 0.9577670097351074\n"
     ]
    }
   ],
   "source": [
    "# Reshape data for CNN input (adding a channel dimension)\n",
    "X_train = X_train.reshape(X_train.shape[0], 28, 28, 1)  # Assuming the image size is 28x28\n",
    "X_test = X_test.reshape(X_test.shape[0], 28, 28, 1)\n",
    "\n",
    "# Verify the shapes\n",
    "print(\"X_train shape:\", X_train.shape)  # (num_train_samples, 28, 28, 1)\n",
    "print(\"y_train shape:\", y_train.shape)  # (num_train_samples, 10)\n",
    "print(\"X_test shape:\", X_test.shape)    # (num_test_samples, 28, 28, 1)\n",
    "print(\"y_test shape:\", y_test.shape)    # (num_test_samples, 10)\n",
    "\n",
    "# Build the CNN model\n",
    "model = Sequential([\n",
    "    Conv2D(32, (3, 3), activation='relu', input_shape=(28, 28, 1)),\n",
    "    MaxPooling2D((2, 2)),\n",
    "    Conv2D(64, (3, 3), activation='relu'),\n",
    "    MaxPooling2D((2, 2)),\n",
    "    Flatten(),\n",
    "    Dense(128, activation='relu'),\n",
    "    Dense(10, activation='softmax')  # 10 classes for digits 0-9\n",
    "])\n",
    "\n",
    "# Compile the model\n",
    "model.compile(optimizer='adam', loss='categorical_crossentropy', metrics=['accuracy'])\n",
    "\n",
    "# Train the model\n",
    "history = model.fit(X_train, y_train, epochs=10, batch_size=64, validation_data=(X_test, y_test))\n",
    "\n",
    "# Evaluate the model\n",
    "test_loss, test_accuracy = model.evaluate(X_test, y_test, verbose=2)\n",
    "print(\"Test accuracy:\", test_accuracy)"
   ]
  },
  {
   "cell_type": "markdown",
   "id": "83890e80",
   "metadata": {},
   "source": [
    "#### Accuracy - 0.9577670097351074"
   ]
  },
  {
   "cell_type": "markdown",
   "id": "033c6791",
   "metadata": {},
   "source": [
    "## prediction"
   ]
  },
  {
   "cell_type": "code",
   "execution_count": 99,
   "id": "0d6dafe8",
   "metadata": {},
   "outputs": [
    {
     "name": "stdout",
     "output_type": "stream",
     "text": [
      "\u001b[1m1/1\u001b[0m \u001b[32m━━━━━━━━━━━━━━━━━━━━\u001b[0m\u001b[37m\u001b[0m \u001b[1m0s\u001b[0m 36ms/step\n"
     ]
    },
    {
     "data": {
      "image/png": "[encoded data removed]",
      "text/plain": [
       "<Figure size 600x600 with 2 Axes>"
      ]
     },
     "metadata": {},
     "output_type": "display_data"
    }
   ],
   "source": [
    "import cv2\n",
    "import numpy as np\n",
    "import matplotlib.pyplot as plt\n",
    "\n",
    "# Quantization function\n",
    "def quantize_image(image, num_levels=8):\n",
    "    quantization_factor = 256 // num_levels\n",
    "    quantized_image = (image // quantization_factor) * quantization_factor\n",
    "    return quantized_image\n",
    "\n",
    "# Preprocessing function\n",
    "def preprocess_image(img_path, num_levels=8):\n",
    "    img = cv2.imread(img_path, cv2.IMREAD_GRAYSCALE)\n",
    "    if img is None:\n",
    "        raise ValueError(f\"Image not found at path: {img_path}\")\n",
    "    img = cv2.resize(img, (28, 28))  # Resize to 28x28\n",
    "    img = quantize_image(img, num_levels=num_levels)  # Apply quantization\n",
    "    img = img.astype('float32') / 255.0  # Normalize to [0, 1]\n",
    "    img = np.expand_dims(img, axis=-1)  # Add channel dimension\n",
    "    img = np.expand_dims(img, axis=0)  # Add batch dimension\n",
    "    return img\n",
    "\n",
    "# Prediction function\n",
    "def predict_digit(model, img_path):\n",
    "    preprocessed_image = preprocess_image(img_path)\n",
    "    \n",
    "    # Visualize the preprocessed image\n",
    "    plt.figure(figsize=(6,6))\n",
    "    plt.subplot(1, 2, 1)\n",
    "    plt.imshow(preprocessed_image[0, :, :, 0], cmap='gray')\n",
    "    plt.title(\"Preprocessed Image\")\n",
    "    plt.axis('off')\n",
    "    \n",
    "    # Make the prediction\n",
    "    prediction = model.predict(preprocessed_image)\n",
    "    predicted_digit = np.argmax(prediction)\n",
    "\n",
    "    # Show the prediction result\n",
    "    plt.subplot(1, 2, 2)\n",
    "    plt.imshow(preprocessed_image[0, :, :, 0], cmap='gray')\n",
    "    plt.title(\"Predicted image\")\n",
    "    plt.axis('off')\n",
    "    \n",
    "    plt.tight_layout()\n",
    "    plt.show()\n",
    "    \n",
    "    return predicted_digit\n",
    "\n",
    "# Path to your test image\n",
    "new_image_path = r\"C:\\Users\\shrut\\OneDrive\\Desktop\\digit_dataset2\\5\\digit_5_6.png\"  # Replace with the correct path to your image\n",
    "\n",
    "# Predict and visualize the result\n",
    "predicted_digit = predict_digit(model, new_image_path)\n"
   ]
  }
 ],
 "metadata": {
  "kernelspec": {
   "display_name": "Python 3 (ipykernel)",
   "language": "python",
   "name": "python3"
  },
  "language_info": {
   "codemirror_mode": {
    "name": "ipython",
    "version": 3
   },
   "file_extension": ".py",
   "mimetype": "text/x-python",
   "name": "python",
   "nbconvert_exporter": "python",
   "pygments_lexer": "ipython3",
   "version": "3.9.13"
  }
 },
 "nbformat": 4,
 "nbformat_minor": 5
}
